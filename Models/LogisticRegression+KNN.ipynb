{
  "cells": [
    {
      "cell_type": "markdown",
      "metadata": {
        "id": "yNxHN3RfyptW"
      },
      "source": [
        "# Classification"
      ]
    },
    {
      "cell_type": "markdown",
      "metadata": {
        "id": "bDBXutUi7Iz6"
      },
      "source": [
        "## DATASET preparation"
      ]
    },
    {
      "cell_type": "markdown",
      "metadata": {
        "id": "LjC6Sj1D7ZfN"
      },
      "source": [
        "### Step 01 : importing libraries"
      ]
    },
    {
      "cell_type": "code",
      "execution_count": 1,
      "metadata": {
        "id": "tgu5JMbyzEHV"
      },
      "outputs": [],
      "source": [
        "import pandas as pd\n",
        "from sklearn.model_selection import train_test_split\n",
        "from sklearn.metrics import accuracy_score, classification_report, confusion_matrix"
      ]
    },
    {
      "cell_type": "markdown",
      "metadata": {
        "id": "k9e2t1dV7haD"
      },
      "source": [
        "### Step 02 : Loading data"
      ]
    },
    {
      "cell_type": "code",
      "execution_count": 4,
      "metadata": {
        "id": "Eb_menmvzGL9"
      },
      "outputs": [],
      "source": [
        "path =\"Modified_ObesityDataset_.csv\"\n",
        "df = pd.read_csv(path)"
      ]
    },
    {
      "cell_type": "markdown",
      "metadata": {
        "id": "zGpLXyF37mRT"
      },
      "source": [
        "### Step 03 : split the data into X ( features ) and y (Target)"
      ]
    },
    {
      "cell_type": "code",
      "execution_count": 5,
      "metadata": {
        "id": "rx1R9BfG7rwL"
      },
      "outputs": [],
      "source": [
        "X = df.drop('NObeyesdad', axis=1)\n",
        "y = df['NObeyesdad']"
      ]
    },
    {
      "cell_type": "code",
      "execution_count": 3,
      "metadata": {
        "colab": {
          "base_uri": "https://localhost:8080/"
        },
        "id": "TSpONinS_8E9",
        "outputId": "b9083c77-c691-4482-a631-c48ff3f4013c"
      },
      "outputs": [
        {
          "name": "stdout",
          "output_type": "stream",
          "text": [
            "Mounted at /content/drive\n"
          ]
        }
      ],
      "source": [
        "# from google.colab import drive\n",
        "# drive.mount('/content/drive')"
      ]
    },
    {
      "cell_type": "markdown",
      "metadata": {
        "id": "4XVseXWe7wg8"
      },
      "source": [
        "### Step 04 : split the data into training and testing sets"
      ]
    },
    {
      "cell_type": "code",
      "execution_count": 6,
      "metadata": {
        "id": "GjwEtTgN71JD"
      },
      "outputs": [],
      "source": [
        "X_train, X_test, y_train, y_test = train_test_split(X, y, test_size=0.2, random_state=42)"
      ]
    },
    {
      "cell_type": "markdown",
      "metadata": {
        "id": "I3hbFeIsFds9"
      },
      "source": [
        "### Step 05 : Scaling the data"
      ]
    },
    {
      "cell_type": "markdown",
      "metadata": {
        "id": "8cAjeSGUFqSt"
      },
      "source": [
        "Scaling the data refers to the process of transforming the numerical features in your dataset so that they all have the same scale or range. The goal is to ensure that no single feature dominates the others, which can help improve the performance and convergence of machine learning algorithms, such as logistic regression"
      ]
    },
    {
      "cell_type": "code",
      "execution_count": null,
      "metadata": {
        "id": "znca5fikFlrF"
      },
      "outputs": [],
      "source": [
        "from sklearn.preprocessing import StandardScaler\n",
        "\n",
        "# Instantiate the StandardScaler\n",
        "scaler = StandardScaler()\n",
        "\n",
        "# Fit and transform the training data\n",
        "X_train_scaled = scaler.fit_transform(X_train)\n",
        "\n",
        "# Transform the test data using the same scaler\n",
        "X_test_scaled = scaler.transform(X_test)"
      ]
    },
    {
      "cell_type": "markdown",
      "metadata": {
        "id": "KbfA1TQPys4l"
      },
      "source": [
        "## Model 03 : Logistic Regression"
      ]
    },
    {
      "cell_type": "markdown",
      "metadata": {
        "id": "l0QtU2SuzaVA"
      },
      "source": [
        "### Step 01 : import libraries"
      ]
    },
    {
      "cell_type": "code",
      "execution_count": 7,
      "metadata": {
        "id": "pAx6UrI0ypNo"
      },
      "outputs": [],
      "source": [
        "from sklearn.linear_model import LogisticRegression"
      ]
    },
    {
      "cell_type": "markdown",
      "metadata": {
        "id": "DvJe3h7g0ZBZ"
      },
      "source": [
        "### Step 02 : fit the classification model"
      ]
    },
    {
      "cell_type": "code",
      "execution_count": 16,
      "metadata": {
        "colab": {
          "base_uri": "https://localhost:8080/",
          "height": 74
        },
        "id": "4CmjCdtC0Xe1",
        "outputId": "af802141-ac24-4b68-862d-96bc46146638"
      },
      "outputs": [
        {
          "data": {
            "text/html": [
              "<style>#sk-container-id-3 {color: black;background-color: white;}#sk-container-id-3 pre{padding: 0;}#sk-container-id-3 div.sk-toggleable {background-color: white;}#sk-container-id-3 label.sk-toggleable__label {cursor: pointer;display: block;width: 100%;margin-bottom: 0;padding: 0.3em;box-sizing: border-box;text-align: center;}#sk-container-id-3 label.sk-toggleable__label-arrow:before {content: \"▸\";float: left;margin-right: 0.25em;color: #696969;}#sk-container-id-3 label.sk-toggleable__label-arrow:hover:before {color: black;}#sk-container-id-3 div.sk-estimator:hover label.sk-toggleable__label-arrow:before {color: black;}#sk-container-id-3 div.sk-toggleable__content {max-height: 0;max-width: 0;overflow: hidden;text-align: left;background-color: #f0f8ff;}#sk-container-id-3 div.sk-toggleable__content pre {margin: 0.2em;color: black;border-radius: 0.25em;background-color: #f0f8ff;}#sk-container-id-3 input.sk-toggleable__control:checked~div.sk-toggleable__content {max-height: 200px;max-width: 100%;overflow: auto;}#sk-container-id-3 input.sk-toggleable__control:checked~label.sk-toggleable__label-arrow:before {content: \"▾\";}#sk-container-id-3 div.sk-estimator input.sk-toggleable__control:checked~label.sk-toggleable__label {background-color: #d4ebff;}#sk-container-id-3 div.sk-label input.sk-toggleable__control:checked~label.sk-toggleable__label {background-color: #d4ebff;}#sk-container-id-3 input.sk-hidden--visually {border: 0;clip: rect(1px 1px 1px 1px);clip: rect(1px, 1px, 1px, 1px);height: 1px;margin: -1px;overflow: hidden;padding: 0;position: absolute;width: 1px;}#sk-container-id-3 div.sk-estimator {font-family: monospace;background-color: #f0f8ff;border: 1px dotted black;border-radius: 0.25em;box-sizing: border-box;margin-bottom: 0.5em;}#sk-container-id-3 div.sk-estimator:hover {background-color: #d4ebff;}#sk-container-id-3 div.sk-parallel-item::after {content: \"\";width: 100%;border-bottom: 1px solid gray;flex-grow: 1;}#sk-container-id-3 div.sk-label:hover label.sk-toggleable__label {background-color: #d4ebff;}#sk-container-id-3 div.sk-serial::before {content: \"\";position: absolute;border-left: 1px solid gray;box-sizing: border-box;top: 0;bottom: 0;left: 50%;z-index: 0;}#sk-container-id-3 div.sk-serial {display: flex;flex-direction: column;align-items: center;background-color: white;padding-right: 0.2em;padding-left: 0.2em;position: relative;}#sk-container-id-3 div.sk-item {position: relative;z-index: 1;}#sk-container-id-3 div.sk-parallel {display: flex;align-items: stretch;justify-content: center;background-color: white;position: relative;}#sk-container-id-3 div.sk-item::before, #sk-container-id-3 div.sk-parallel-item::before {content: \"\";position: absolute;border-left: 1px solid gray;box-sizing: border-box;top: 0;bottom: 0;left: 50%;z-index: -1;}#sk-container-id-3 div.sk-parallel-item {display: flex;flex-direction: column;z-index: 1;position: relative;background-color: white;}#sk-container-id-3 div.sk-parallel-item:first-child::after {align-self: flex-end;width: 50%;}#sk-container-id-3 div.sk-parallel-item:last-child::after {align-self: flex-start;width: 50%;}#sk-container-id-3 div.sk-parallel-item:only-child::after {width: 0;}#sk-container-id-3 div.sk-dashed-wrapped {border: 1px dashed gray;margin: 0 0.4em 0.5em 0.4em;box-sizing: border-box;padding-bottom: 0.4em;background-color: white;}#sk-container-id-3 div.sk-label label {font-family: monospace;font-weight: bold;display: inline-block;line-height: 1.2em;}#sk-container-id-3 div.sk-label-container {text-align: center;}#sk-container-id-3 div.sk-container {/* jupyter's `normalize.less` sets `[hidden] { display: none; }` but bootstrap.min.css set `[hidden] { display: none !important; }` so we also need the `!important` here to be able to override the default hidden behavior on the sphinx rendered scikit-learn.org. See: https://github.com/scikit-learn/scikit-learn/issues/21755 */display: inline-block !important;position: relative;}#sk-container-id-3 div.sk-text-repr-fallback {display: none;}</style><div id=\"sk-container-id-3\" class=\"sk-top-container\"><div class=\"sk-text-repr-fallback\"><pre>LogisticRegression(max_iter=1000, random_state=42)</pre><b>In a Jupyter environment, please rerun this cell to show the HTML representation or trust the notebook. <br />On GitHub, the HTML representation is unable to render, please try loading this page with nbviewer.org.</b></div><div class=\"sk-container\" hidden><div class=\"sk-item\"><div class=\"sk-estimator sk-toggleable\"><input class=\"sk-toggleable__control sk-hidden--visually\" id=\"sk-estimator-id-3\" type=\"checkbox\" checked><label for=\"sk-estimator-id-3\" class=\"sk-toggleable__label sk-toggleable__label-arrow\">LogisticRegression</label><div class=\"sk-toggleable__content\"><pre>LogisticRegression(max_iter=1000, random_state=42)</pre></div></div></div></div></div>"
            ],
            "text/plain": [
              "LogisticRegression(max_iter=1000, random_state=42)"
            ]
          },
          "execution_count": 16,
          "metadata": {},
          "output_type": "execute_result"
        }
      ],
      "source": [
        "# Create a Logistic Regression classifier object\n",
        "lr_classifier = LogisticRegression(random_state=42, max_iter=1000)\n",
        "\n",
        "# Fit the classifier to the scaled training data\n",
        "lr_classifier.fit(X_train_scaled, y_train)"
      ]
    },
    {
      "cell_type": "markdown",
      "metadata": {
        "id": "kRlaiImr0stZ"
      },
      "source": [
        "### Step 03 : evaluate the model"
      ]
    },
    {
      "cell_type": "code",
      "execution_count": 17,
      "metadata": {
        "colab": {
          "base_uri": "https://localhost:8080/"
        },
        "id": "t3gXeApH0v8H",
        "outputId": "f2bdbad1-8ae7-4544-fa46-cf12a505ccf4"
      },
      "outputs": [
        {
          "name": "stdout",
          "output_type": "stream",
          "text": [
            "Accuracy (Logistic Regression): 0.9157608695652174\n",
            "\n",
            "Classification Report (Logistic Regression):\n",
            "              precision    recall  f1-score   support\n",
            "\n",
            "           0       0.92      0.90      0.91        63\n",
            "           1       0.78      0.82      0.80        61\n",
            "           2       0.84      0.84      0.84        55\n",
            "           3       0.97      0.94      0.95        64\n",
            "           4       0.98      0.98      0.98        66\n",
            "           5       1.00      1.00      1.00        59\n",
            "\n",
            "    accuracy                           0.92       368\n",
            "   macro avg       0.91      0.91      0.91       368\n",
            "weighted avg       0.92      0.92      0.92       368\n",
            "\n",
            "\n",
            "Confusion Matrix (Logistic Regression):\n",
            "[[57  6  0  0  0  0]\n",
            " [ 5 50  6  0  0  0]\n",
            " [ 0  8 46  1  0  0]\n",
            " [ 0  0  3 60  1  0]\n",
            " [ 0  0  0  1 65  0]\n",
            " [ 0  0  0  0  0 59]]\n"
          ]
        }
      ],
      "source": [
        "# Make predictions on the test set\n",
        "y_pred_lr = lr_classifier.predict(X_test_scaled)\n",
        "\n",
        "# Calculate accuracy\n",
        "accuracy_lr = accuracy_score(y_test, y_pred_lr)\n",
        "print(\"Accuracy (Logistic Regression):\", accuracy_lr)\n",
        "\n",
        "# Generate classification report\n",
        "print(\"\\nClassification Report (Logistic Regression):\")\n",
        "print(classification_report(y_test, y_pred_lr))\n",
        "\n",
        "# Generate confusion matrix\n",
        "print(\"\\nConfusion Matrix (Logistic Regression):\")\n",
        "print(confusion_matrix(y_test, y_pred_lr))\n"
      ]
    },
    {
      "cell_type": "markdown",
      "metadata": {
        "id": "nawCbfVt4_AI"
      },
      "source": [
        "## Model 04 : KNN"
      ]
    },
    {
      "cell_type": "markdown",
      "metadata": {
        "id": "lqv0JAuk5GjH"
      },
      "source": [
        "### Step 01 : import libraries"
      ]
    },
    {
      "cell_type": "code",
      "execution_count": 20,
      "metadata": {
        "id": "UrTI8PJ25DQG"
      },
      "outputs": [],
      "source": [
        "from sklearn.neighbors import KNeighborsClassifier"
      ]
    },
    {
      "cell_type": "markdown",
      "metadata": {
        "id": "EM3GJWZj5eCX"
      },
      "source": [
        "### Step 2: Create and Fit the KNN Classifier"
      ]
    },
    {
      "cell_type": "code",
      "execution_count": 21,
      "metadata": {
        "colab": {
          "base_uri": "https://localhost:8080/",
          "height": 74
        },
        "id": "m7wUAWm25Udu",
        "outputId": "864934f7-2d31-45d4-cf8e-b166a0a59b35"
      },
      "outputs": [
        {
          "data": {
            "text/html": [
              "<style>#sk-container-id-4 {color: black;background-color: white;}#sk-container-id-4 pre{padding: 0;}#sk-container-id-4 div.sk-toggleable {background-color: white;}#sk-container-id-4 label.sk-toggleable__label {cursor: pointer;display: block;width: 100%;margin-bottom: 0;padding: 0.3em;box-sizing: border-box;text-align: center;}#sk-container-id-4 label.sk-toggleable__label-arrow:before {content: \"▸\";float: left;margin-right: 0.25em;color: #696969;}#sk-container-id-4 label.sk-toggleable__label-arrow:hover:before {color: black;}#sk-container-id-4 div.sk-estimator:hover label.sk-toggleable__label-arrow:before {color: black;}#sk-container-id-4 div.sk-toggleable__content {max-height: 0;max-width: 0;overflow: hidden;text-align: left;background-color: #f0f8ff;}#sk-container-id-4 div.sk-toggleable__content pre {margin: 0.2em;color: black;border-radius: 0.25em;background-color: #f0f8ff;}#sk-container-id-4 input.sk-toggleable__control:checked~div.sk-toggleable__content {max-height: 200px;max-width: 100%;overflow: auto;}#sk-container-id-4 input.sk-toggleable__control:checked~label.sk-toggleable__label-arrow:before {content: \"▾\";}#sk-container-id-4 div.sk-estimator input.sk-toggleable__control:checked~label.sk-toggleable__label {background-color: #d4ebff;}#sk-container-id-4 div.sk-label input.sk-toggleable__control:checked~label.sk-toggleable__label {background-color: #d4ebff;}#sk-container-id-4 input.sk-hidden--visually {border: 0;clip: rect(1px 1px 1px 1px);clip: rect(1px, 1px, 1px, 1px);height: 1px;margin: -1px;overflow: hidden;padding: 0;position: absolute;width: 1px;}#sk-container-id-4 div.sk-estimator {font-family: monospace;background-color: #f0f8ff;border: 1px dotted black;border-radius: 0.25em;box-sizing: border-box;margin-bottom: 0.5em;}#sk-container-id-4 div.sk-estimator:hover {background-color: #d4ebff;}#sk-container-id-4 div.sk-parallel-item::after {content: \"\";width: 100%;border-bottom: 1px solid gray;flex-grow: 1;}#sk-container-id-4 div.sk-label:hover label.sk-toggleable__label {background-color: #d4ebff;}#sk-container-id-4 div.sk-serial::before {content: \"\";position: absolute;border-left: 1px solid gray;box-sizing: border-box;top: 0;bottom: 0;left: 50%;z-index: 0;}#sk-container-id-4 div.sk-serial {display: flex;flex-direction: column;align-items: center;background-color: white;padding-right: 0.2em;padding-left: 0.2em;position: relative;}#sk-container-id-4 div.sk-item {position: relative;z-index: 1;}#sk-container-id-4 div.sk-parallel {display: flex;align-items: stretch;justify-content: center;background-color: white;position: relative;}#sk-container-id-4 div.sk-item::before, #sk-container-id-4 div.sk-parallel-item::before {content: \"\";position: absolute;border-left: 1px solid gray;box-sizing: border-box;top: 0;bottom: 0;left: 50%;z-index: -1;}#sk-container-id-4 div.sk-parallel-item {display: flex;flex-direction: column;z-index: 1;position: relative;background-color: white;}#sk-container-id-4 div.sk-parallel-item:first-child::after {align-self: flex-end;width: 50%;}#sk-container-id-4 div.sk-parallel-item:last-child::after {align-self: flex-start;width: 50%;}#sk-container-id-4 div.sk-parallel-item:only-child::after {width: 0;}#sk-container-id-4 div.sk-dashed-wrapped {border: 1px dashed gray;margin: 0 0.4em 0.5em 0.4em;box-sizing: border-box;padding-bottom: 0.4em;background-color: white;}#sk-container-id-4 div.sk-label label {font-family: monospace;font-weight: bold;display: inline-block;line-height: 1.2em;}#sk-container-id-4 div.sk-label-container {text-align: center;}#sk-container-id-4 div.sk-container {/* jupyter's `normalize.less` sets `[hidden] { display: none; }` but bootstrap.min.css set `[hidden] { display: none !important; }` so we also need the `!important` here to be able to override the default hidden behavior on the sphinx rendered scikit-learn.org. See: https://github.com/scikit-learn/scikit-learn/issues/21755 */display: inline-block !important;position: relative;}#sk-container-id-4 div.sk-text-repr-fallback {display: none;}</style><div id=\"sk-container-id-4\" class=\"sk-top-container\"><div class=\"sk-text-repr-fallback\"><pre>KNeighborsClassifier()</pre><b>In a Jupyter environment, please rerun this cell to show the HTML representation or trust the notebook. <br />On GitHub, the HTML representation is unable to render, please try loading this page with nbviewer.org.</b></div><div class=\"sk-container\" hidden><div class=\"sk-item\"><div class=\"sk-estimator sk-toggleable\"><input class=\"sk-toggleable__control sk-hidden--visually\" id=\"sk-estimator-id-4\" type=\"checkbox\" checked><label for=\"sk-estimator-id-4\" class=\"sk-toggleable__label sk-toggleable__label-arrow\">KNeighborsClassifier</label><div class=\"sk-toggleable__content\"><pre>KNeighborsClassifier()</pre></div></div></div></div></div>"
            ],
            "text/plain": [
              "KNeighborsClassifier()"
            ]
          },
          "execution_count": 21,
          "metadata": {},
          "output_type": "execute_result"
        }
      ],
      "source": [
        "knn_classifier = KNeighborsClassifier(n_neighbors=5)\n",
        "\n",
        "# Fit the classifier to the training data\n",
        "knn_classifier.fit(X_train_scaled, y_train)\n"
      ]
    },
    {
      "cell_type": "markdown",
      "metadata": {
        "id": "d5kSRe-95jP2"
      },
      "source": [
        "### Step 03 : evaluate the model"
      ]
    },
    {
      "cell_type": "code",
      "execution_count": 22,
      "metadata": {
        "colab": {
          "base_uri": "https://localhost:8080/"
        },
        "id": "XlOy6d7z5gfA",
        "outputId": "222bb01d-b94b-4ed0-d8b8-8d282877c136"
      },
      "outputs": [
        {
          "name": "stdout",
          "output_type": "stream",
          "text": [
            "Accuracy: 0.7880434782608695\n",
            "Classification Report:\n",
            "              precision    recall  f1-score   support\n",
            "\n",
            "           0       0.66      0.63      0.65        63\n",
            "           1       0.71      0.67      0.69        61\n",
            "           2       0.74      0.64      0.69        55\n",
            "           3       0.76      0.81      0.79        64\n",
            "           4       0.85      0.95      0.90        66\n",
            "           5       0.98      1.00      0.99        59\n",
            "\n",
            "    accuracy                           0.79       368\n",
            "   macro avg       0.78      0.79      0.78       368\n",
            "weighted avg       0.78      0.79      0.78       368\n",
            "\n",
            "Confusion Matrix:\n",
            "[[40 12  6  4  1  0]\n",
            " [11 41  3  5  0  1]\n",
            " [ 7  3 35  5  5  0]\n",
            " [ 3  2  2 52  5  0]\n",
            " [ 0  0  1  2 63  0]\n",
            " [ 0  0  0  0  0 59]]\n"
          ]
        }
      ],
      "source": [
        "# Step 5: Make Predictions\n",
        "y_pred = knn_classifier.predict(X_test_scaled)\n",
        "\n",
        "# Step 6: Evaluate the Model\n",
        "accuracy = accuracy_score(y_test, y_pred)\n",
        "print(\"Accuracy:\", accuracy)\n",
        "\n",
        "# Print classification report\n",
        "print(\"Classification Report:\")\n",
        "print(classification_report(y_test, y_pred))\n",
        "\n",
        "# Print confusion matrix\n",
        "print(\"Confusion Matrix:\")\n",
        "print(confusion_matrix(y_test, y_pred))"
      ]
    },
    {
      "cell_type": "markdown",
      "metadata": {
        "id": "LLHU5QG7FFeO"
      },
      "source": [
        "### Step 04 : Grid search to optimize parameters"
      ]
    },
    {
      "cell_type": "code",
      "execution_count": 25,
      "metadata": {
        "colab": {
          "base_uri": "https://localhost:8080/"
        },
        "id": "oyDdFq-1FKS5",
        "outputId": "4c8e0fc3-562d-44e6-c049-c2786ec6097e"
      },
      "outputs": [
        {
          "name": "stdout",
          "output_type": "stream",
          "text": [
            "Best Parameters: {'knn__algorithm': 'auto', 'knn__n_neighbors': 7, 'knn__weights': 'distance'}\n",
            "Accuracy: 0.8179347826086957\n",
            "Classification Report:\n",
            "              precision    recall  f1-score   support\n",
            "\n",
            "           0       0.70      0.67      0.68        63\n",
            "           1       0.79      0.69      0.74        61\n",
            "           2       0.81      0.71      0.76        55\n",
            "           3       0.76      0.84      0.80        64\n",
            "           4       0.86      0.98      0.92        66\n",
            "           5       0.98      1.00      0.99        59\n",
            "\n",
            "    accuracy                           0.82       368\n",
            "   macro avg       0.82      0.82      0.81       368\n",
            "weighted avg       0.82      0.82      0.81       368\n",
            "\n",
            "Confusion Matrix:\n",
            "[[42 10  5  5  1  0]\n",
            " [ 9 42  2  7  0  1]\n",
            " [ 5  1 39  5  5  0]\n",
            " [ 4  0  1 54  5  0]\n",
            " [ 0  0  1  0 65  0]\n",
            " [ 0  0  0  0  0 59]]\n"
          ]
        }
      ],
      "source": [
        "from sklearn.model_selection import GridSearchCV\n",
        "from sklearn.pipeline import Pipeline\n",
        "\n",
        "# Step 1: Define the parameter grid\n",
        "param_grid = {\n",
        "    'knn__n_neighbors': [3, 5, 7],  # Number of neighbors\n",
        "    'knn__weights': ['uniform', 'distance'],  # Weight function\n",
        "    'knn__algorithm': ['auto', 'ball_tree', 'kd_tree', 'brute'],  # Algorithm used to compute the nearest neighbors\n",
        "}\n",
        "\n",
        "# Step 2: Instantiate the KNN classifier within a pipeline\n",
        "knn_pipeline = Pipeline([\n",
        "    ('scaler', StandardScaler()),\n",
        "    ('knn', KNeighborsClassifier())\n",
        "])\n",
        "\n",
        "# Step 3: Instantiate the GridSearchCV\n",
        "grid_search = GridSearchCV(estimator=knn_pipeline, param_grid=param_grid, cv=5, scoring='accuracy')\n",
        "\n",
        "# Step 4: Fit the GridSearchCV to the training data\n",
        "grid_search.fit(X_train_scaled, y_train)\n",
        "\n",
        "# Step 5: Get the best parameters and best estimator\n",
        "best_params = grid_search.best_params_\n",
        "best_estimator = grid_search.best_estimator_\n",
        "\n",
        "print(\"Best Parameters:\", best_params)\n",
        "\n",
        "# Step 6: Evaluate the best model\n",
        "y_pred = best_estimator.predict(X_test_scaled)\n",
        "accuracy = accuracy_score(y_test, y_pred)\n",
        "print(\"Accuracy:\", accuracy)\n",
        "# Print classification report\n",
        "print(\"Classification Report:\")\n",
        "print(classification_report(y_test, y_pred))\n",
        "\n",
        "# Print confusion matrix\n",
        "print(\"Confusion Matrix:\")\n",
        "print(confusion_matrix(y_test, y_pred))"
      ]
    },
    {
      "cell_type": "markdown",
      "metadata": {
        "id": "HqFNzXCE63cE"
      },
      "source": [
        "## Comparison"
      ]
    },
    {
      "cell_type": "markdown",
      "metadata": {
        "id": "a85ZBLeGGRBT"
      },
      "source": [
        "\n",
        "1. **Accuracy**:\n",
        "   - KNN: 0.8179\n",
        "   - Logistic Regression: 0.9158\n",
        "   \n",
        "2. **Precision**:\n",
        "   - KNN: Macro avg: 0.82, Weighted avg: 0.82\n",
        "   - Logistic Regression: Macro avg: 0.91, Weighted avg: 0.92\n",
        "\n",
        "3. **Recall**:\n",
        "   - KNN: Macro avg: 0.82, Weighted avg: 0.82\n",
        "   - Logistic Regression: Macro avg: 0.91, Weighted avg: 0.92\n",
        "\n",
        "4. **F1-score**:\n",
        "   - KNN: Macro avg: 0.81, Weighted avg: 0.81\n",
        "   - Logistic Regression: Macro avg: 0.91, Weighted avg: 0.92\n",
        "\n",
        "5. **Confusion Matrix**:\n",
        "   - KNN: The confusion matrix indicates the number of correct and incorrect predictions made by the KNN model.\n",
        "   - Logistic Regression: Similarly, the confusion matrix for logistic regression provides insight into the model's performance across different classes.\n",
        "\n",
        "Based on these evaluation metrics, it's evident that the Logistic Regression model outperforms the KNN classifier in terms of accuracy, precision, recall, and F1-score. Additionally, the confusion matrix of the Logistic Regression model shows fewer misclassifications compared to KNN.\n"
      ]
    }
  ],
  "metadata": {
    "colab": {
      "provenance": []
    },
    "kernelspec": {
      "display_name": "Python 3",
      "name": "python3"
    },
    "language_info": {
      "name": "python"
    }
  },
  "nbformat": 4,
  "nbformat_minor": 0
}
